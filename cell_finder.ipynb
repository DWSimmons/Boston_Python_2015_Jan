{
 "metadata": {
  "name": "",
  "signature": "sha256:61d2709da74efef86ff1c894e5b167d9d9e2c264d532088aaa1c5030485b79af"
 },
 "nbformat": 3,
 "nbformat_minor": 0,
 "worksheets": [
  {
   "cells": [
    {
     "cell_type": "code",
     "collapsed": false,
     "input": [
      "import sys, struct\n",
      "import numpy as np\n",
      "import bokeh.plotting as bk\n",
      "from skimage.measure import regionprops, label"
     ],
     "language": "python",
     "metadata": {},
     "outputs": []
    },
    {
     "cell_type": "code",
     "collapsed": false,
     "input": [
      "bk.output_notebook()"
     ],
     "language": "python",
     "metadata": {},
     "outputs": []
    },
    {
     "cell_type": "code",
     "collapsed": false,
     "input": [
      "fileFSM  = '/Users/kronos/pyboston2015/trout2.fsm'"
     ],
     "language": "python",
     "metadata": {},
     "outputs": []
    },
    {
     "cell_type": "code",
     "collapsed": false,
     "input": [
      "def fsmread(filename):\n",
      "    f = open(filename, 'rb')\n",
      "\n",
      "    # signature = f.read(4)\n",
      "    # description = f.read(40)[:27]\n",
      "\n",
      "    # Block 5100: PE file header\n",
      "    # blockOneID = struct.unpack('<h', f.read(2))\n",
      "    # blockOneSize = struct.unpack('<i', f.read(4))\n",
      "    f.seek(50, 1)\n",
      "\n",
      "    # PEfileName = f.read(len[0])\n",
      "    len = struct.unpack('<h', f.read(2))\n",
      "    f.seek(len[0], 1)\n",
      "\n",
      "    f.seek(24, 1)\n",
      "    # xDelta = struct.unpack('<d', f.read(8))\n",
      "    # yDelta = struct.unpack('<d', f.read(8))\n",
      "    # zDelta = struct.unpack('<d', f.read(8))\n",
      "\n",
      "    wnStart = struct.unpack('<d', f.read(8))\n",
      "    wnEnd = struct.unpack('<d', f.read(8))\n",
      "\n",
      "    # minValue = struct.unpack('<d', f.read(8))\n",
      "    # maxValue = struct.unpack('<d', f.read(8))\n",
      "    # f.seek(16, 1)\n",
      "\n",
      "    # xAxisStart = struct.unpack('<d', f.read(8))\n",
      "    # yAxisStart = struct.unpack('<d', f.read(8))\n",
      "    # zAxisStart = struct.unpack('<d', f.read(8))\n",
      "    # f.seek(24, 1)\n",
      "    f.seek(40, 1)\n",
      "\n",
      "    xDim = struct.unpack('<i', f.read(4))\n",
      "    yDim = struct.unpack('<i', f.read(4))\n",
      "    zDim = struct.unpack('<i', f.read(4))\n",
      "\n",
      "    # xAxisLabel\n",
      "    len = struct.unpack('<h', f.read(2))\n",
      "    f.seek(len[0], 1)\n",
      "\n",
      "    # yAxisLabel\n",
      "    len = struct.unpack('<h', f.read(2))\n",
      "    f.seek(len[0], 1)\n",
      "\n",
      "    # zAxisLabel\n",
      "    len = struct.unpack('<h', f.read(2))\n",
      "    f.seek(len[0], 1)\n",
      "\n",
      "    # measureMode\n",
      "    len = struct.unpack('<h', f.read(2))\n",
      "    f.seek(len[0], 1)\n",
      "\n",
      "    # block 5104: 2D data, seek pass it\n",
      "    # blockTwoID = struct.unpack('<h', f.read(2))\n",
      "    f.seek(2, 1)\n",
      "    blockTwoSize = struct.unpack('<i', f.read(4))\n",
      "    f.seek(blockTwoSize[0], 1)\n",
      "\n",
      "    # Block 5105: 3D data\n",
      "    # Header:6 bytes\n",
      "    # Spectral data: zDim bytes\n",
      "    spcBytes = zDim[0]\n",
      "    spc = np.empty([yDim[0], xDim[0], spcBytes])\n",
      "\n",
      "    c = 0\n",
      "    cStop = yDim[0] * xDim[0]\n",
      "\n",
      "    x = 0\n",
      "    y = yDim[0] - 1\n",
      "\n",
      "    while c != cStop:\n",
      "        f.seek(6, 1)\n",
      "        spc[y, x, :] = np.fromfile(f, dtype='f4', count=spcBytes)\n",
      "\n",
      "        c += 1\n",
      "        x += 1\n",
      "\n",
      "        if x > xDim[0] - 1:\n",
      "            x = 0\n",
      "            y -= 1\n",
      "\n",
      "    f.close()\n",
      "\n",
      "    spcAbs = np.negative(np.log10(spc / 100))\n",
      "    spcAbs = spcAbs[:, :, ::-1]\n",
      "    wn = np.linspace(wnEnd[0], wnStart[0], zDim[0])\n",
      "    xyzDim = ([xDim[0], yDim[0], zDim[0]])\n",
      "    spcAbs = spcAbs.reshape(xyzDim[1]*xyzDim[0], xyzDim[2])\n",
      "\n",
      "\n",
      "    return spcAbs, wn, xyzDim\n"
     ],
     "language": "python",
     "metadata": {},
     "outputs": []
    },
    {
     "cell_type": "code",
     "collapsed": false,
     "input": [
      "mm_red = ['#ffffe0','#fffddd','#fffbd9','#fff9d5','#fff7d1',\n",
      "          '#fff5cd','#fff4ca','#fff1c6','#fff0c2','#ffedbf',\n",
      "          '#ffebbc','#ffeab8','#ffe8b5','#ffe5b2','#ffe3af',\n",
      "          '#ffe2ac','#ffe0a9','#ffdda7','#ffdba3','#ffd9a0',\n",
      "          '#ffd69d','#ffd59b','#ffd299','#ffd096','#ffce94',\n",
      "          '#ffcc92','#ffca8f','#ffc88d','#ffc68b','#ffc389',\n",
      "          '#ffc187','#ffbf85','#ffbd83','#ffbb82','#ffb87f',\n",
      "          '#ffb67e','#ffb37d','#ffb17b','#ffaf79','#ffac78',\n",
      "          '#ffaa76','#ffa875','#ffa674','#ffa273','#ffa072',\n",
      "          '#ff9d70','#ff9c6f','#ff996e','#ff976d','#ff946c',\n",
      "          '#fe916b','#fe8e6a','#fd8d69','#fc8a69','#fc8968',\n",
      "          '#fb8767','#fa8567','#f98266','#f98065','#f87e64',\n",
      "          '#f77b64','#f67963','#f57662','#f57462','#f47261',\n",
      "          '#f37060','#f26e5f','#f16b5f','#f0695e','#ef675d',\n",
      "          '#ee655d','#ec635c','#eb615b','#ea5f5b','#e95d5a',\n",
      "          '#e85959','#e75858','#e55658','#e45357','#e35256',\n",
      "          '#e24f55','#e04d54','#df4b53','#dd4952','#dc4751',\n",
      "          '#db4550','#d9434f','#d8404e','#d63e4d','#d53c4c',\n",
      "          '#d43a4b','#d2384a','#d13649','#ce3447','#cd3246',\n",
      "          '#cc3045','#ca2e43','#c82c42','#c62a41','#c5283f',\n",
      "          '#c3263d','#c1243c','#bf223b','#be2039','#bb1e37',\n",
      "          '#b91c35','#b81a34','#b61832','#b41630','#b2152e',\n",
      "          '#b0132c','#ae112a','#ac0f28','#aa0d26','#a80b24',\n",
      "          '#a50922','#a40820','#a2061e','#9f051c','#9e041a',\n",
      "          '#9b0316','#980214','#970112','#95010f','#92010b',\n",
      "          '#8f0008','#8d0004','#8b0000']"
     ],
     "language": "python",
     "metadata": {},
     "outputs": []
    },
    {
     "cell_type": "code",
     "collapsed": false,
     "input": [
      "mm_grey = ['#ffffff','#fcfcfc','#fbfbfb','#f8f8f8','#f5f5f5',\n",
      "           '#f3f3f3','#f2f2f2','#efefef','#ededed','#ebebeb',\n",
      "           '#e8e8e8','#e6e6e6','#e3e3e3','#e2e2e2','#e0e0e0',\n",
      "           '#dedede','#dbdbdb','#d9d9d9','#d7d7d7','#d5d5d5',\n",
      "           '#d3d3d3','#d0d0d0','#cdcdcd','#cccccc','#cacaca',\n",
      "           '#c7c7c7','#c5c5c5','#c3c3c3','#c0c0c0','#bebebe',\n",
      "           '#bdbdbd','#bbbbbb','#b8b8b8','#b5b5b5','#b3b3b3',\n",
      "           '#b2b2b2','#b0b0b0','#aeaeae','#acacac','#a9a9a9',\n",
      "           '#a7a7a7','#a5a5a5','#a2a2a2','#a1a1a1','#9f9f9f',\n",
      "           '#9c9c9c','#9a9a9a','#989898','#979797','#959595',\n",
      "           '#939393','#909090','#8f8f8f','#8d8d8d','#8a8a8a',\n",
      "           '#888888','#868686','#838383','#818181','#7f7f7f',\n",
      "           '#7d7d7d','#7b7b7b','#7a7a7a','#777777','#767676',\n",
      "           '#747474','#727272','#707070','#6e6e6e','#6c6c6c',\n",
      "           '#6a6a6a','#696969','#676767','#656565','#636363',\n",
      "           '#616161','#5f5f5f','#5d5d5d','#5b5b5b','#585858',\n",
      "           '#585858','#555555','#535353','#525252','#4f4f4f',\n",
      "           '#4e4e4e','#4b4b4b','#4a4a4a','#484848','#474747',\n",
      "           '#444444','#434343','#424242','#404040','#3d3d3d',\n",
      "           '#3b3b3b','#3a3a3a','#393939','#373737','#343434',\n",
      "           '#333333','#323232','#303030','#2e2e2e','#2c2c2c',\n",
      "           '#2a2a2a','#292929','#282828','#262626','#242424',\n",
      "           '#232323','#202020','#202020','#1d1d1d','#1c1c1c',\n",
      "           '#1b1b1b','#191919','#181818','#151515','#141414',\n",
      "           '#121212','#111111','#0d0d0d','#0c0c0c','#090909',\n",
      "           '#050505','#030303','#000000']"
     ],
     "language": "python",
     "metadata": {},
     "outputs": []
    },
    {
     "cell_type": "code",
     "collapsed": false,
     "input": [
      "def show_wn_image(sm, wnm, dm, wn_select):\n",
      "    \n",
      "    wn_ind = np.where(wnm == wn_select)[0]\n",
      "    wn_img = np.reshape(sm[:, wn_ind], (dm[1], dm[0]))\n",
      "    \n",
      "    f1 = bk.figure(plot_width=dm[0]*8, plot_height=dm[1]*8, \n",
      "                   x_range=[0, dm[0]], y_range=[0, dm[1]], \n",
      "                   logo='grey', toolbar_location = 'below')\n",
      "    \n",
      "    f1.image(image=[wn_img[::-1, :]], x=[0], y=[0], \n",
      "             dw=[dm[0]], dh=[dm[1]], palette=mm_red);\n",
      "    \n",
      "    f1.title = 'Spectral image at ' + str(wn_select) + ' wavenumbers'\n",
      "    f1.title_text_font_size = '14'\n",
      "    \n",
      "    bk.show(f1)"
     ],
     "language": "python",
     "metadata": {},
     "outputs": []
    },
    {
     "cell_type": "code",
     "collapsed": false,
     "input": [
      "def set_thresh(sm, wnm, dm, wn_select, wn_threshold):\n",
      "    \n",
      "    wn_ind = np.where(wnm == wn_select)[0]\n",
      "    wn_img = np.reshape(sm[:, wn_ind], (dm[1], dm[0]))\n",
      "    \n",
      "    mask_img = np.asarray(wn_img > wn_threshold, dtype='float64')\n",
      "    \n",
      "    corr_img = np.copy(wn_img)\n",
      "    corr_img[wn_img < wn_threshold] = 0.0\n",
      "    \n",
      "    return corr_img, mask_img"
     ],
     "language": "python",
     "metadata": {},
     "outputs": []
    },
    {
     "cell_type": "code",
     "collapsed": false,
     "input": [
      "def show_bk_image(img, palette, title):\n",
      "    \n",
      "    row, col = img.shape\n",
      "    \n",
      "    f1 = bk.figure(plot_width=col*8, plot_height=row*8, \n",
      "                   x_range=[0, col], y_range=[0, row], \n",
      "                   logo='grey', toolbar_location = 'below')\n",
      "    \n",
      "    f1.image(image=[img[::-1, :]], x=[0], y=[0], \n",
      "             dw=[col], dh=[row], palette=palette);\n",
      "    \n",
      "    f1.title = title\n",
      "    f1.title_text_font_size = '14'\n",
      "    \n",
      "    bk.show(f1)"
     ],
     "language": "python",
     "metadata": {},
     "outputs": []
    },
    {
     "cell_type": "code",
     "collapsed": false,
     "input": [
      "def show_pix_spectrum(x, y, sm, wnm, dm, title):\n",
      "    pixel = (y-1)*dm[0] + x\n",
      "    \n",
      "    f1 = bk.figure(logo='grey', toolbar_location = 'below')\n",
      "    \n",
      "    f1.line(wnm, sm[pixel, :], color='#1F78B4')\n",
      "    \n",
      "    f1.xaxis.axis_label = 'Wavenumber'\n",
      "    f1.yaxis.axis_label = 'Absorbance'\n",
      "    f1.title = title + ': pixel ' + str(x) + ' - ' + str(y)\n",
      "    f1.title_text_font_size = '14'\n",
      "    \n",
      "    bk.show(f1)\n",
      "    "
     ],
     "language": "python",
     "metadata": {},
     "outputs": []
    },
    {
     "cell_type": "code",
     "collapsed": false,
     "input": [
      "spcAbs, wn, xyzDim = fsmread(fileFSM)"
     ],
     "language": "python",
     "metadata": {},
     "outputs": []
    },
    {
     "cell_type": "code",
     "collapsed": false,
     "input": [
      "show_pix_spectrum(2, 24, spcAbs, wn, xyzDim,'Cell' )\n",
      "show_pix_spectrum(10, 44, spcAbs, wn, xyzDim, 'Background')"
     ],
     "language": "python",
     "metadata": {},
     "outputs": []
    },
    {
     "cell_type": "code",
     "collapsed": false,
     "input": [
      "show_wn_image(spcAbs, wn, xyzDim, 1650)"
     ],
     "language": "python",
     "metadata": {},
     "outputs": []
    },
    {
     "cell_type": "code",
     "collapsed": false,
     "input": [
      "corr_img, mask_img = set_thresh(spcAbs, wn, xyzDim, 1650, 0.15)"
     ],
     "language": "python",
     "metadata": {},
     "outputs": []
    },
    {
     "cell_type": "code",
     "collapsed": false,
     "input": [
      "show_bk_image(corr_img, mm_grey, 'Grey scale image')\n",
      "show_bk_image(mask_img, mm_grey, 'Masked image')"
     ],
     "language": "python",
     "metadata": {},
     "outputs": []
    },
    {
     "cell_type": "code",
     "collapsed": false,
     "input": [
      "label_img = label(mask_img)\n",
      "props = regionprops(label_img)"
     ],
     "language": "python",
     "metadata": {},
     "outputs": []
    },
    {
     "cell_type": "code",
     "collapsed": false,
     "input": [
      "for ind, val in enumerate(props):\n",
      "    print(props[ind].area)"
     ],
     "language": "python",
     "metadata": {},
     "outputs": []
    },
    {
     "cell_type": "code",
     "collapsed": false,
     "input": [
      "area_min = 10\n",
      "area_max = 80\n",
      "proc_area = []\n",
      "for ind, val in enumerate(props):\n",
      "    a = props[ind].area\n",
      "    if a > area_min and a < area_max:\n",
      "        proc_area.append(props[ind])"
     ],
     "language": "python",
     "metadata": {},
     "outputs": []
    },
    {
     "cell_type": "code",
     "collapsed": false,
     "input": [
      "for ind, val in enumerate(proc_area):\n",
      "    print(proc_area[ind].area)"
     ],
     "language": "python",
     "metadata": {},
     "outputs": []
    },
    {
     "cell_type": "code",
     "collapsed": false,
     "input": [
      "mask_img_ac = np.zeros(mask_img.shape)\n",
      "\n",
      "for ind, val in enumerate(proc_area):\n",
      "    c = proc_area[ind].coords\n",
      "    for n in range(c.shape[0]):\n",
      "        mask_img_ac[tuple(c[n])] = 1     "
     ],
     "language": "python",
     "metadata": {},
     "outputs": []
    },
    {
     "cell_type": "code",
     "collapsed": false,
     "input": [
      "show_bk_image(mask_img_ac, mm_grey, 'Masked image - constrain: area')"
     ],
     "language": "python",
     "metadata": {},
     "outputs": []
    },
    {
     "cell_type": "code",
     "collapsed": false,
     "input": [
      "spc3D = np.reshape(spcAbs, (xyzDim[1], xyzDim[0], xyzDim[2]))"
     ],
     "language": "python",
     "metadata": {},
     "outputs": []
    },
    {
     "cell_type": "code",
     "collapsed": false,
     "input": [
      "tmp = []\n",
      "proc_area_edge = []\n",
      "\n",
      "for ind, val in enumerate(proc_area):\n",
      "    c = proc_area[ind].coords\n",
      "    \n",
      "    top = 0\n",
      "    bottom = xyzDim[1]-1\n",
      "        \n",
      "    if  np.any(c[:, 0] == bottom) == False and np.any(c[:, 0] == top) == False:\n",
      "        tmp.append(proc_area[ind])\n",
      "\n",
      "for ind, val in enumerate(tmp):\n",
      "    c = tmp[ind].coords\n",
      "    \n",
      "    left = 0\n",
      "    right = xyzDim[0]-1\n",
      "    \n",
      "    if np.any(c[:, 1] == left) == False and np.any(c[:, 1] == right) == False:\n",
      "        proc_area_edge.append(tmp[ind])\n",
      "        "
     ],
     "language": "python",
     "metadata": {},
     "outputs": []
    },
    {
     "cell_type": "code",
     "collapsed": false,
     "input": [
      "for ind, val in enumerate(proc_area):\n",
      "    print(proc_area[ind].area)"
     ],
     "language": "python",
     "metadata": {},
     "outputs": []
    },
    {
     "cell_type": "code",
     "collapsed": false,
     "input": [
      "for ind, val in enumerate(proc_area_edge):\n",
      "    print(proc_area_edge[ind].area)"
     ],
     "language": "python",
     "metadata": {},
     "outputs": []
    },
    {
     "cell_type": "code",
     "collapsed": false,
     "input": [
      "mask_img_ac_ec = np.zeros(mask_img.shape)\n",
      "\n",
      "for ind, val in enumerate(proc_area_edge):\n",
      "    c = proc_area_edge[ind].coords\n",
      "    for n in range(c.shape[0]):\n",
      "        mask_img_ac_ec[tuple(c[n])] = 1"
     ],
     "language": "python",
     "metadata": {},
     "outputs": []
    },
    {
     "cell_type": "code",
     "collapsed": false,
     "input": [
      "show_bk_image(mask_img_ac, mm_grey, 'Masked image - constrain: area, edge')"
     ],
     "language": "python",
     "metadata": {},
     "outputs": []
    }
   ],
   "metadata": {}
  }
 ]
}